{
 "cells": [
  {
   "cell_type": "code",
   "execution_count": 56,
   "metadata": {},
   "outputs": [],
   "source": [
    "\"\"\"Ranks candidates by the Schulze method.\n",
    "For more information read http://en.wikipedia.org/wiki/Schulze_method.\n",
    "\"\"\"\n",
    "\n",
    "__author__ = \"Michael G. Parker\"\n",
    "__contact__ = \"http://omgitsmgp.com/\"\n",
    "\n",
    "\n",
    "from collections import defaultdict\n",
    "\n",
    "\n",
    "def _add_remaining_ranks(d, candidate_name, remaining_ranks, weight):\n",
    "    for remaining_rank in remaining_ranks:\n",
    "        for other_candidate_name in remaining_rank:\n",
    "            d[candidate_name, other_candidate_name] += weight\n",
    "\n",
    "\n",
    "def _add_ranks_to_d(d, ranks, weight):\n",
    "    for i, rank in enumerate(ranks):\n",
    "        remaining_ranks = ranks[i+1:]\n",
    "        for candidate_name in rank:\n",
    "            _add_remaining_ranks(d, candidate_name, remaining_ranks, weight)\n",
    "\n",
    "\n",
    "def _compute_d(weighted_ranks):\n",
    "    \"\"\"Computes the d array in the Schulze method.\n",
    "    d[V,W] is the number of voters who prefer candidate V over W.\n",
    "    \"\"\"\n",
    "    d = defaultdict(int)\n",
    "    for ranks, weight in weighted_ranks:\n",
    "        _add_ranks_to_d(d, ranks, weight)\n",
    "    return d\n",
    "\n",
    "\n",
    "def _compute_p(d, candidate_names):\n",
    "    \"\"\"Computes the p array in the Schulze method.\n",
    "    p[V,W] is the strength of the strongest path from candidate V to W.\n",
    "    \"\"\"\n",
    "    p = {}\n",
    "    for candidate_name1 in candidate_names:\n",
    "        for candidate_name2 in candidate_names:\n",
    "            if candidate_name1 != candidate_name2:\n",
    "                strength = d.get((candidate_name1, candidate_name2), 0)\n",
    "                if strength > d.get((candidate_name2, candidate_name1), 0):\n",
    "                    p[candidate_name1, candidate_name2] = strength\n",
    "\n",
    "    for candidate_name1 in candidate_names:\n",
    "        for candidate_name2 in candidate_names:\n",
    "            if candidate_name1 != candidate_name2:\n",
    "                for candidate_name3 in candidate_names:\n",
    "                    if (candidate_name1 != candidate_name3) and (candidate_name2 != candidate_name3):\n",
    "                        curr_value = p.get((candidate_name2, candidate_name3), 0)\n",
    "                        new_value = min(\n",
    "                                p.get((candidate_name2, candidate_name1), 0),\n",
    "                                p.get((candidate_name1, candidate_name3), 0))\n",
    "                        if new_value > curr_value:\n",
    "                            p[candidate_name2, candidate_name3] = new_value\n",
    "\n",
    "    return p\n",
    "\n",
    "\n",
    "def _rank_p(candidate_names, p):\n",
    "    \"\"\"Ranks the candidates by p.\"\"\"\n",
    "    candidate_wins = defaultdict(list)\n",
    "\n",
    "    for candidate_name1 in candidate_names:\n",
    "        num_wins = 0\n",
    "\n",
    "        # Compute the number of wins this candidate has over all other candidates.\n",
    "        for candidate_name2 in candidate_names:\n",
    "            if candidate_name1 == candidate_name2:\n",
    "                continue\n",
    "            candidate1_score = p.get((candidate_name1, candidate_name2), 0)\n",
    "            candidate2_score = p.get((candidate_name2, candidate_name1), 0)\n",
    "            if candidate1_score > candidate2_score:\n",
    "                num_wins += 1\n",
    "\n",
    "        candidate_wins[num_wins].append(candidate_name1)\n",
    "\n",
    "    sorted_wins = sorted(candidate_wins.keys(), reverse=True)\n",
    "    return [candidate_wins[num_wins] for num_wins in sorted_wins]\n",
    "\n",
    "\n",
    "def compute_ranks(candidate_names, weighted_ranks):\n",
    "    \"\"\"Returns the candidates ranked by the Schulze method.\n",
    "    See http://en.wikipedia.org/wiki/Schulze_method for details.\n",
    "    Parameter candidate_names is a sequence containing all the candidate names.\n",
    "    Parameter weighted_ranks is a sequence of (ranks, weight) pairs.\n",
    "    The first element, ranks, is a ranking of the candidates. It is an array of arrays so that we\n",
    "    can express ties. For example, [[a, b], [c], [d, e]] represents a = b > c > d = e.\n",
    "    The second element, weight, is typically the number of voters that chose this ranking.\n",
    "    \"\"\"\n",
    "    d = _compute_d(weighted_ranks)\n",
    "    p = _compute_p(d, candidate_names)\n",
    "    return _rank_p(candidate_names, p)"
   ]
  },
  {
   "cell_type": "code",
   "execution_count": 89,
   "metadata": {},
   "outputs": [
    {
     "data": {
      "text/plain": [
       "[[6], [7, 8, 10], [4, 11], [9], [2], [1, 3], [5]]"
      ]
     },
     "execution_count": 89,
     "metadata": {},
     "output_type": "execute_result"
    }
   ],
   "source": [
    "import numpy as np\n",
    "candidate_names = range(1,12)\n",
    "# ranks = [candidate_names]\n",
    "ranks = [\n",
    "[7,\t6,\t10,\t8,\t1,\t4,\t11,\t9,\t5,\t3,\t2],\n",
    "[11,9,\t7,\t2,\t10,\t8,\t6,\t5,\t3,\t1,\t4],\n",
    "[6,\t8,\t10,\t4,\t7,\t11,\t2,\t9,\t3,\t5,\t1],\n",
    "[6,\t8,\t10,\t7,\t4,\t11,\t9,\t1,\t2,\t3,\t5],\n",
    "[6,\t8,\t10,\t7,\t11,\t4,\t9,\t2,\t3,\t1,\t5],\n",
    "[6,\t7,\t10,\t11,\t8,\t4,\t9,\t1,\t3,\t2,\t5]\n",
    "]\n",
    "weighted_ranks = [([[r] for r in rank], 1) for rank in ranks]\n",
    "compute_ranks(candidate_names, weighted_ranks)"
   ]
  },
  {
   "cell_type": "code",
   "execution_count": 75,
   "metadata": {},
   "outputs": [
    {
     "data": {
      "text/plain": [
       "[([4, 2, 3, 6, 1, 11, 10, 7, 5, 9, 8], 1)]"
      ]
     },
     "execution_count": 75,
     "metadata": {},
     "output_type": "execute_result"
    }
   ],
   "source": [
    "weighted_ranks"
   ]
  },
  {
   "cell_type": "code",
   "execution_count": 20,
   "metadata": {},
   "outputs": [],
   "source": [
    "from scipy.stats import spearmanr\n",
    "from utils.data import *\n",
    "from utils.analysis import evaluate_prediction_owa\n",
    "import seaborn as sns\n",
    "import numpy as np\n",
    "import pandas as pd\n",
    "sns.set_theme(style=\"whitegrid\")\n",
    "import matplotlib.pyplot as plt\n",
    "from copy import deepcopy\n",
    "max_owa_clip = 3.5"
   ]
  },
  {
   "cell_type": "code",
   "execution_count": 123,
   "metadata": {},
   "outputs": [
    {
     "name": "stdout",
     "output_type": "stream",
     "text": [
      "ARIMA average : 0.9996073751920922\n",
      "Comb average : 1.0258061705641983\n",
      "Damped average : 1.0063590552061679\n",
      "ESRNN average : 0.9827885788814025\n",
      "Theta average : 0.9964581368297244\n"
     ]
    },
    {
     "data": {
      "text/html": [
       "<div>\n",
       "<style scoped>\n",
       "    .dataframe tbody tr th:only-of-type {\n",
       "        vertical-align: middle;\n",
       "    }\n",
       "\n",
       "    .dataframe tbody tr th {\n",
       "        vertical-align: top;\n",
       "    }\n",
       "\n",
       "    .dataframe thead th {\n",
       "        text-align: right;\n",
       "    }\n",
       "</style>\n",
       "<table border=\"1\" class=\"dataframe\">\n",
       "  <thead>\n",
       "    <tr style=\"text-align: right;\">\n",
       "      <th></th>\n",
       "      <th>FFORMA</th>\n",
       "      <th>FFORMS-G</th>\n",
       "      <th>AVG</th>\n",
       "      <th>FFORMA-N</th>\n",
       "      <th>NN-STACK</th>\n",
       "      <th>FFORMS-R</th>\n",
       "    </tr>\n",
       "  </thead>\n",
       "  <tbody>\n",
       "    <tr>\n",
       "      <th>count</th>\n",
       "      <td>25000.000000</td>\n",
       "      <td>25000.000000</td>\n",
       "      <td>25000.000000</td>\n",
       "      <td>25000.000000</td>\n",
       "      <td>25000.000000</td>\n",
       "      <td>25000.000000</td>\n",
       "    </tr>\n",
       "    <tr>\n",
       "      <th>mean</th>\n",
       "      <td>0.917094</td>\n",
       "      <td>0.920263</td>\n",
       "      <td>0.964534</td>\n",
       "      <td>0.914740</td>\n",
       "      <td>0.960158</td>\n",
       "      <td>0.917495</td>\n",
       "    </tr>\n",
       "    <tr>\n",
       "      <th>std</th>\n",
       "      <td>1.226420</td>\n",
       "      <td>1.250609</td>\n",
       "      <td>1.239415</td>\n",
       "      <td>1.225990</td>\n",
       "      <td>1.680363</td>\n",
       "      <td>1.220629</td>\n",
       "    </tr>\n",
       "    <tr>\n",
       "      <th>min</th>\n",
       "      <td>0.013589</td>\n",
       "      <td>0.016506</td>\n",
       "      <td>0.025388</td>\n",
       "      <td>0.015617</td>\n",
       "      <td>0.027531</td>\n",
       "      <td>0.037898</td>\n",
       "    </tr>\n",
       "    <tr>\n",
       "      <th>25%</th>\n",
       "      <td>0.404952</td>\n",
       "      <td>0.405402</td>\n",
       "      <td>0.381146</td>\n",
       "      <td>0.401684</td>\n",
       "      <td>0.392074</td>\n",
       "      <td>0.398797</td>\n",
       "    </tr>\n",
       "    <tr>\n",
       "      <th>50%</th>\n",
       "      <td>0.671758</td>\n",
       "      <td>0.673569</td>\n",
       "      <td>0.663707</td>\n",
       "      <td>0.667684</td>\n",
       "      <td>0.647007</td>\n",
       "      <td>0.666144</td>\n",
       "    </tr>\n",
       "    <tr>\n",
       "      <th>75%</th>\n",
       "      <td>1.093473</td>\n",
       "      <td>1.091259</td>\n",
       "      <td>1.101415</td>\n",
       "      <td>1.090782</td>\n",
       "      <td>1.079395</td>\n",
       "      <td>1.082034</td>\n",
       "    </tr>\n",
       "    <tr>\n",
       "      <th>max</th>\n",
       "      <td>25.903416</td>\n",
       "      <td>28.923804</td>\n",
       "      <td>24.710538</td>\n",
       "      <td>26.025149</td>\n",
       "      <td>79.151492</td>\n",
       "      <td>25.061488</td>\n",
       "    </tr>\n",
       "  </tbody>\n",
       "</table>\n",
       "</div>"
      ],
      "text/plain": [
       "             FFORMA      FFORMS-G           AVG      FFORMA-N      NN-STACK  \\\n",
       "count  25000.000000  25000.000000  25000.000000  25000.000000  25000.000000   \n",
       "mean       0.917094      0.920263      0.964534      0.914740      0.960158   \n",
       "std        1.226420      1.250609      1.239415      1.225990      1.680363   \n",
       "min        0.013589      0.016506      0.025388      0.015617      0.027531   \n",
       "25%        0.404952      0.405402      0.381146      0.401684      0.392074   \n",
       "50%        0.671758      0.673569      0.663707      0.667684      0.647007   \n",
       "75%        1.093473      1.091259      1.101415      1.090782      1.079395   \n",
       "max       25.903416     28.923804     24.710538     26.025149     79.151492   \n",
       "\n",
       "           FFORMS-R  \n",
       "count  25000.000000  \n",
       "mean       0.917495  \n",
       "std        1.220629  \n",
       "min        0.037898  \n",
       "25%        0.398797  \n",
       "50%        0.666144  \n",
       "75%        1.082034  \n",
       "max       25.061488  "
      ]
     },
     "execution_count": 123,
     "metadata": {},
     "output_type": "execute_result"
    }
   ],
   "source": [
    "seasonalities = ['Hourly','Daily','Weekly'] # [\"Monthly\",\"Yearly\",\"Quarterly\"]\n",
    "seasonality = seasonalities[0]\n",
    "\n",
    "X_train_df, y_train_df, X_test_df, y_test_df = m4_parser(seasonality, 'data', 'forecasts',\n",
    "                                                                load_existing_dataframes=True)\n",
    "\n",
    "for seasonality in  seasonalities[1:]:\n",
    "    _X_train_df, _y_train_df, _X_test_df, _y_test_df = m4_parser(seasonality, 'data', 'forecasts',\n",
    "                                                                load_existing_dataframes=True)\n",
    "    X_train_df = pd.concat((X_train_df,_X_train_df))\n",
    "    y_train_df = pd.concat((y_train_df,_y_train_df))\n",
    "    X_test_df = pd.concat((X_test_df,_X_test_df))\n",
    "    y_test_df = pd.concat((y_test_df,_y_test_df))\n",
    "\n",
    "base_errors = y_test_df.copy()\n",
    "base_errors = base_errors.drop_duplicates('unique_id').set_index('unique_id')\n",
    "base_errors = base_errors.filter(regex='^OWA_', axis=1)\n",
    "base_errors.columns = base_errors.columns.str.lstrip('OWA_')\n",
    "base_errors.columns = base_errors.columns.str.lstrip('mdl_')\n",
    "plot_base_errors = deepcopy(base_errors)\n",
    "\n",
    "plot_base_errors.rename(columns={'ESRNN': 'ES-RNN'},\n",
    "                        inplace=True)\n",
    "\n",
    "for mdl, avg_owa in zip(base_errors.columns, base_errors.mean()):\n",
    "    str_result = mdl + \" average : \" + str(avg_owa)\n",
    "    print(str_result)\n",
    "\n",
    "ensemble_owas_ = pd.DataFrame()\n",
    "for seasonality in  seasonalities:\n",
    "    ensemble_owas = None\n",
    "    for file in glob.glob(f\"results/*{seasonality[0]}.npy\"):\n",
    "        model_name = file.rsplit(f\"_{seasonality[0]}.npy\")[0].split(\"/\")[1]    \n",
    "        try:\n",
    "            owas = np.load(file)\n",
    "        except ValueError:\n",
    "            owas = None\n",
    "            print(file)\n",
    "        if owas is not None:\n",
    "            if ensemble_owas is None:\n",
    "                ensemble_owas = pd.DataFrame(owas,columns=[model_name])\n",
    "            else:\n",
    "                ensemble_owas[model_name] = owas            \n",
    "        else:\n",
    "            print(file)    \n",
    "    ensemble_owas_ = pd.concat((ensemble_owas_, ensemble_owas))\n",
    "        \n",
    "\n",
    "ensemble_owas_.rename(columns={'Model Averaging': 'AVG',\n",
    "                               'Neural Averaging 2': 'FFORMA-N',\n",
    "                               'Neural Stacking': 'NN-STACK',\n",
    "                               'OLD_FFORMS':'FFORMS-R',\n",
    "                               'FFORMS':'FFORMS-G',\n",
    "                                },\n",
    "                        inplace=True)\n",
    "plot_ensemble_errors = deepcopy(ensemble_owas_)\n",
    "plot_ensemble_errors = plot_ensemble_errors.drop(columns=[\"Neural Averaging\", \n",
    "                                                          \"Neural Stacking 2\",\n",
    "                                                          \"nbeats\"],errors='ignore')\n",
    "plot_ensemble_errors.describe()"
   ]
  },
  {
   "cell_type": "code",
   "execution_count": 1,
   "metadata": {},
   "outputs": [],
   "source": [
    "from utils.data import m4_ts_parser, seas_dict"
   ]
  },
  {
   "cell_type": "code",
   "execution_count": 2,
   "metadata": {},
   "outputs": [
    {
     "data": {
      "text/plain": [
       "{'Hourly': {'seasonality': 24,\n",
       "  'input_size': 24,\n",
       "  'output_size': 48,\n",
       "  'freq': 'H',\n",
       "  'tail_inputs': 0},\n",
       " 'Daily': {'seasonality': 7,\n",
       "  'input_size': 7,\n",
       "  'output_size': 14,\n",
       "  'freq': 'D',\n",
       "  'tail_inputs': 0},\n",
       " 'Weekly': {'seasonality': 52,\n",
       "  'input_size': 52,\n",
       "  'output_size': 13,\n",
       "  'freq': 'W',\n",
       "  'tail_inputs': 0},\n",
       " 'Monthly': {'seasonality': 12,\n",
       "  'input_size': 12,\n",
       "  'output_size': 18,\n",
       "  'freq': 'M',\n",
       "  'tail_inputs': 0},\n",
       " 'Quarterly': {'seasonality': 4,\n",
       "  'input_size': 4,\n",
       "  'output_size': 8,\n",
       "  'freq': 'Q',\n",
       "  'tail_inputs': 0},\n",
       " 'Yearly': {'seasonality': 1,\n",
       "  'input_size': 4,\n",
       "  'output_size': 6,\n",
       "  'freq': 'D',\n",
       "  'tail_inputs': 0}}"
      ]
     },
     "execution_count": 2,
     "metadata": {},
     "output_type": "execute_result"
    }
   ],
   "source": [
    "seas_dict"
   ]
  },
  {
   "cell_type": "code",
   "execution_count": 2,
   "metadata": {},
   "outputs": [],
   "source": [
    "import tensorflow_addons as tfa"
   ]
  },
  {
   "cell_type": "code",
   "execution_count": 11,
   "metadata": {},
   "outputs": [],
   "source": [
    "from utils.data import *\n",
    "seasonality = 'Hourly'\n",
    "_, y_train_df, X_test_df, y_test_df = m4_parser(seasonality, 'data', 'forecasts', load_existing_dataframes=True)\n",
    "_, y_train_df_ts, _, y_test_df_ts, ts_pred_data = m4_ts_parser(seasonality, \"data\")\n",
    "combination_type = 'Deep FFORMA'"
   ]
  },
  {
   "cell_type": "code",
   "execution_count": 12,
   "metadata": {},
   "outputs": [
    {
     "data": {
      "text/plain": [
       "(ds    700.0\n",
       " y     700.0\n",
       " Name: 0.0, dtype: float64,\n",
       " ds    700.0\n",
       " y     700.0\n",
       " Name: 0.01, dtype: float64,\n",
       " ds    700.0\n",
       " y     700.0\n",
       " Name: 0.05, dtype: float64,\n",
       " ds    700.0\n",
       " y     700.0\n",
       " Name: 0.15, dtype: float64,\n",
       " ds    700.0\n",
       " y     700.0\n",
       " Name: 0.2, dtype: float64,\n",
       " ds    960.0\n",
       " y     960.0\n",
       " Name: 0.5, dtype: float64,\n",
       " ds    960.0\n",
       " y     960.0\n",
       " Name: 0.85, dtype: float64,\n",
       " ds    960.0\n",
       " y     960.0\n",
       " Name: 0.95, dtype: float64,\n",
       " ds    960.0\n",
       " y     960.0\n",
       " Name: 0.99, dtype: float64,\n",
       " ds    960.0\n",
       " y     960.0\n",
       " Name: 1.0, dtype: float64)"
      ]
     },
     "execution_count": 12,
     "metadata": {},
     "output_type": "execute_result"
    }
   ],
   "source": [
    "(\n",
    "y_train_df_ts.groupby(\"unique_id\").count().quantile(0.00),\n",
    "y_train_df_ts.groupby(\"unique_id\").count().quantile(0.01),\n",
    "y_train_df_ts.groupby(\"unique_id\").count().quantile(0.05),\n",
    "y_train_df_ts.groupby(\"unique_id\").count().quantile(0.15),\n",
    "y_train_df_ts.groupby(\"unique_id\").count().quantile(0.20),\n",
    "y_train_df_ts.groupby(\"unique_id\").count().quantile(0.50),\n",
    "y_train_df_ts.groupby(\"unique_id\").count().quantile(0.85),\n",
    "y_train_df_ts.groupby(\"unique_id\").count().quantile(0.95),\n",
    "y_train_df_ts.groupby(\"unique_id\").count().quantile(0.99),\n",
    "y_train_df_ts.groupby(\"unique_id\").count().quantile(1.00)\n",
    ")"
   ]
  },
  {
   "cell_type": "code",
   "execution_count": 1,
   "metadata": {},
   "outputs": [],
   "source": [
    "from fforma import FFORMA\n",
    "from fforma.optimization import *\n",
    "from neuralaverage.mlp import *\n",
    "from deepfforma.mlp import DeepFFORMA\n",
    "from stacking.mlp import *\n",
    "from utils.data import *\n",
    "import pandas as pd\n",
    "import numpy as np\n",
    "from utils.analysis import evaluate_prediction_owa\n",
    "from configs.configs import FFORMA_CONFIGS, FEATURE_CONFIGS, NEURALSTACK_CONFIGS, NEURALAVERAGE_CONFIGS, DEEPFFORMA_CONFIGS\n",
    "from sklearn.metrics import r2_score\n",
    "from sklearn.decomposition import PCA\n",
    "from sklearn.manifold import locally_linear_embedding\n",
    "from sklearn.preprocessing import StandardScaler, RobustScaler\n",
    "from lightgbm import LGBMRegressor\n",
    "import lightgbm as lgb\n",
    "from nbeats_keras.model import NBeatsNet\n",
    "from tensorflow.keras.optimizers import Adam\n",
    "from keras.losses import MeanAbsolutePercentageError\n",
    "import keras.backend as K\n",
    "import seaborn as sns"
   ]
  },
  {
   "cell_type": "code",
   "execution_count": 5,
   "metadata": {},
   "outputs": [
    {
     "name": "stdout",
     "output_type": "stream",
     "text": [
      "Loading Data Quarterly\n",
      "Starting Quarterly Deep FFORMA\n"
     ]
    }
   ],
   "source": [
    "for seasonality in ['Hourly','Daily','Weekly','Monthly','Quarterly','Yearly'][4:5]:\n",
    "    # seasonality = 'Daily'\n",
    "    print(f\"Loading Data {seasonality}\")\n",
    "\n",
    "    _, y_train_df, X_test_df, y_test_df = m4_parser(seasonality, 'data', 'forecasts', load_existing_dataframes=True)\n",
    "    _, _, _, _, ts_pred_data = m4_ts_parser(seasonality, \"data\")\n",
    "            \n",
    "    for combination_type in ['nbeats',\n",
    "                                'FFORMA',\n",
    "                                'FFORMS',\n",
    "                                'Model Averaging',\n",
    "                                'Neural Averaging 2',\n",
    "                                'Neural Stacking',\n",
    "                                'Deep FFORMA'][-1:]:\n",
    "        print(f\"Starting {seasonality} {combination_type}\")"
   ]
  },
  {
   "cell_type": "code",
   "execution_count": 6,
   "metadata": {},
   "outputs": [],
   "source": [
    "df_info=X_test_df\n",
    "df_pred_data=y_test_df\n",
    "y_train_df=y_train_df\n",
    "ts_pred_data=ts_pred_data\n",
    "seasonality=seasonality"
   ]
  },
  {
   "cell_type": "code",
   "execution_count": 7,
   "metadata": {},
   "outputs": [],
   "source": [
    "from utils.data import *\n",
    "kfoldings = make_kfolds(df_info, df_pred_data, 10, seed=0)\n",
    "train_set, test_set = train_test_split(kfoldings, 0)"
   ]
  },
  {
   "cell_type": "code",
   "execution_count": 8,
   "metadata": {},
   "outputs": [],
   "source": [
    "train_errors = train_set.copy()\n",
    "train_errors = train_errors.drop_duplicates('unique_id').set_index('unique_id')\n",
    "train_errors = train_errors.filter(regex='^OWA_',axis=1)\n",
    "train_errors.columns = train_errors.columns.str.lstrip('OWA_')"
   ]
  },
  {
   "cell_type": "code",
   "execution_count": 9,
   "metadata": {},
   "outputs": [],
   "source": [
    "train_feats = train_set.copy()\n",
    "train_feats = train_feats.set_index('unique_id')\n",
    "train_feats = train_feats.filter(regex='^mf_', axis=1)\n",
    "test_feats = test_set.copy()\n",
    "test_feats = test_feats.set_index('unique_id')\n",
    "test_feats = test_feats.filter(regex='^mf_', axis=1)"
   ]
  },
  {
   "cell_type": "code",
   "execution_count": 10,
   "metadata": {},
   "outputs": [],
   "source": [
    "base_model_names = []\n",
    "for base_model in train_set.columns[train_set.columns.str.startswith('mdl_')].tolist():\n",
    "    if base_model != 'mdl_naive2':\n",
    "        base_model_names.append(base_model)"
   ]
  },
  {
   "cell_type": "code",
   "execution_count": 11,
   "metadata": {},
   "outputs": [],
   "source": [
    "y_hat_base_models_train = train_set[['unique_id', 'ds'] + base_model_names].set_index(['unique_id', 'ds'])\n",
    "y_hat_base_models_test = test_set[['unique_id','ds'] + base_model_names].set_index(['unique_id','ds'])"
   ]
  },
  {
   "cell_type": "code",
   "execution_count": 12,
   "metadata": {},
   "outputs": [],
   "source": [
    "from pyexpat import model\n",
    "from tensorflow.keras.optimizers import Adam\n",
    "import tensorflow as tf\n",
    "import numpy as np\n",
    "import pandas as pd\n",
    "\n",
    "def fforma_loss(y_OWA, y_wm):\n",
    "    return tf.reduce_sum(y_wm*y_OWA, axis=-1)\n",
    "\n",
    "def Conv_1D_Block(x, model_width, kernel):\n",
    "    # 1D Convolutional Block with BatchNormalization\n",
    "    x = tf.keras.layers.Conv1D(model_width, kernel, padding='same', kernel_initializer=\"he_normal\")(x)\n",
    "    x = tf.keras.layers.BatchNormalization()(x)\n",
    "    x = tf.keras.layers.Activation('relu')(x)\n",
    "    return x\n",
    "\n",
    "def VGG_11(length, num_channel, num_filters, dropout_rate, min_length):\n",
    "    inputs = tf.keras.Input((length, num_channel))  # The input tensor    \n",
    "    # normal = tf.keras.layers.UnitNormalization(axis=1)(inputs)\n",
    "    normal = tf.keras.layers.LayerNormalization()(inputs)\n",
    "\n",
    "    # Block 1\n",
    "    # x = Conv_1D_Block(normal, num_filters * (2 ** 0), 3)\n",
    "    # if min_length >= 10:\n",
    "    #     x = tf.keras.layers.MaxPooling1D(pool_size=2, strides=2, padding=\"valid\")(x)\n",
    "    # # else:\n",
    "    # #     x = tf.keras.layers.MaxPooling1D(pool_size=1, strides=1, padding=\"valid\")(x)\n",
    "    # # xa = tf.keras.layers.GlobalMaxPooling1D()(x)\n",
    "\n",
    "    # # Block 2\n",
    "    # x = Conv_1D_Block(x, num_filters * (2 ** 1), 3)\n",
    "    # if min_length >= 16:\n",
    "    #     x = tf.keras.layers.MaxPooling1D(pool_size=2, strides=2, padding=\"valid\")(x)\n",
    "    # # else:\n",
    "    # #     x = tf.keras.layers.MaxPooling1D(pool_size=1, strides=1, padding=\"valid\")(x)\n",
    "    # # xb = tf.keras.layers.GlobalMaxPooling1D()(x)\n",
    "\n",
    "    # # Block 3\n",
    "    # x = Conv_1D_Block(x, num_filters * (2 ** 2), 3)\n",
    "    # x = Conv_1D_Block(x, num_filters * (2 ** 2), 3)\n",
    "    # if min_length >= 24:\n",
    "    #     x = tf.keras.layers.MaxPooling1D(pool_size=2, strides=2, padding=\"valid\")(x)\n",
    "    # # else:\n",
    "    # #     x = tf.keras.layers.MaxPooling1D(pool_size=1, strides=1, padding=\"valid\")(x)\n",
    "    # # xc = tf.keras.layers.GlobalMaxPooling1D()(x)\n",
    "\n",
    "    # # Block 4\n",
    "    # x = Conv_1D_Block(x, num_filters * (2 ** 3), 3)\n",
    "    # x = Conv_1D_Block(x, num_filters * (2 ** 3), 3)\n",
    "    # if min_length >= 32:\n",
    "    #     x = tf.keras.layers.MaxPooling1D(pool_size=2, strides=2, padding=\"valid\")(x)\n",
    "    # # else:\n",
    "    # #     x = tf.keras.layers.MaxPooling1D(pool_size=1, strides=1, padding=\"valid\")(x)\n",
    "    # # xd = tf.keras.layers.GlobalMaxPooling1D()(x)\n",
    "\n",
    "    # # Block 5\n",
    "    # x = Conv_1D_Block(x, num_filters * (2 ** 3), 3)\n",
    "    # x = Conv_1D_Block(x, num_filters * (2 ** 3), 3)\n",
    "    # x = tf.keras.layers.MaxPooling1D(pool_size=2, strides=2, padding=\"valid\")(x)\n",
    "    \n",
    "    # x = tf.keras.layers.GlobalMaxPooling1D()(x) #Global Averaging replaces Flatten\n",
    "    # xe= x    \n",
    "\n",
    "    # x = tf.keras.layers.Concatenate(axis=1)([xa,xb,xc,xd,xe])\n",
    "\n",
    "    # Create model.    \n",
    "    return inputs, normal\n",
    "\n",
    "def is_test(x, y):\n",
    "    return x % 10 == 0\n",
    "\n",
    "def is_train(x, y):\n",
    "    return not is_test(x, y)\n",
    "\n",
    "recover = lambda x,y: y\n",
    "\n",
    "class DeepFFORMA():\n",
    "    def __init__(self, mc, n_features, n_models):\n",
    "        self.mc = mc\n",
    "        min_length  = self.mc['model_parameters']['min_length']\n",
    "        vgg_filters = self.mc['model_parameters']['vgg_filters']\n",
    "        dropout_rate = self.mc['model_parameters']['dropout_rate']\n",
    "        self.batch_size = self.mc['train_parameters']['batch_size']\n",
    "\n",
    "        layer_units = [(vgg_filters * (2 ** 3))*4,(vgg_filters * (2 ** 3))*4]\n",
    "\n",
    "        inputs, outputs = VGG_11(None, 1, vgg_filters, dropout_rate, min_length)        \n",
    "        \n",
    "        self.features = tf.keras.Model(inputs, outputs)        \n",
    "        \n",
    "        for _i in range(len(layer_units)):\n",
    "            outputs = tf.keras.layers.Dense(layer_units[_i],activation='relu')(outputs)\n",
    "            if dropout_rate:\n",
    "                outputs = tf.keras.layers.Dropout(dropout_rate)(outputs)\n",
    "        outputs = tf.keras.layers.Dense(n_features,activation='linear')(outputs)\n",
    "        # outputs = tf.keras.layers.Dense(n_features,activation='tanh')(outputs)\n",
    "        outputs = tf.keras.layers.BatchNormalization()(outputs)\n",
    "        outputs = tf.keras.layers.Dense(n_models, activation='softmax', use_bias=False)(outputs)\n",
    "\n",
    "        lr = self.mc['train_parameters']['learn_rate']\n",
    "        self.optimizer = Adam(lr=lr)\n",
    "        self.model = tf.keras.Model(inputs=inputs, outputs=outputs)\n",
    "        self.model.compile(loss=fforma_loss, optimizer=self.optimizer)\n",
    "        \n",
    "        self.fitted = False\n",
    "\n",
    "    def fit(self, features, errors):\n",
    "        train_errors = errors\n",
    "        ts_pred_data = features\n",
    "        train_errors_ID = pd.to_numeric(train_errors.index.str[1:], errors='coerce')\n",
    "\n",
    "        max_length  = self.mc['train_parameters']['max_length']\n",
    "        if max_length is not None:\n",
    "            gen_series =  lambda: ((ts_pred_data[uid][-max_length:],trgt) for uid, trgt in zip(train_errors_ID, train_errors.values))\n",
    "        else:\n",
    "            gen_series =  lambda: ((ts_pred_data[uid],trgt) for uid, trgt in zip(train_errors_ID, train_errors.values))\n",
    "\n",
    "        ds_series_validate = tf.data.Dataset.from_generator(\n",
    "                gen_series,\n",
    "                output_types=(tf.float32, tf.float32), \n",
    "                output_shapes=((None,), (5,)))\n",
    "        \n",
    "        ds_series_train = tf.data.Dataset.from_generator(\n",
    "                gen_series,\n",
    "                output_types=(tf.float32, tf.float32), \n",
    "                output_shapes=((None,), (5,)))\n",
    "        \n",
    "\n",
    "        validate_dataset = ds_series_validate.enumerate() \\\n",
    "                            .filter(is_test) \\\n",
    "                            .map(recover) \\\n",
    "                            .padded_batch(self.batch_size)\n",
    "\n",
    "        train_dataset    = ds_series_train.enumerate() \\\n",
    "                            .filter(is_train) \\\n",
    "                            .map(recover) \\\n",
    "                            .padded_batch(self.batch_size)\n",
    "\n",
    "        es = tf.keras.callbacks.EarlyStopping(monitor='val_loss',\n",
    "                                              patience=self.mc['train_parameters']['stop_grow_count'],\n",
    "                                              restore_best_weights=True)\n",
    "\n",
    "        epochs=self.mc['train_parameters']['epochs']\n",
    "\n",
    "        self.model.fit(train_dataset,\n",
    "                       epochs=epochs,\n",
    "                       verbose=1,\n",
    "                       callbacks=[es],\n",
    "                       validation_data=validate_dataset,\n",
    "                       validation_freq=1,                       \n",
    "                       use_multiprocessing=True,\n",
    "                       workers=8,\n",
    "                       )\n",
    "        self.fitted = True\n",
    "\n",
    "    def predict(self, features, y_hat_df):\n",
    "        # assert self.fitted, 'Model not yet fitted'\n",
    "        test_set_ID = pd.to_numeric(y_hat_df.reset_index().unique_id.str[1:], errors='coerce')\n",
    "        uids = np.unique(test_set_ID)\n",
    "        gen_series =  lambda: (features[uid] for uid in uids)\n",
    "        ds_series_test = tf.data.Dataset.from_generator(\n",
    "                gen_series,\n",
    "                output_types=(tf.float32), \n",
    "                output_shapes=((None,)))\n",
    "        test_dataset = ds_series_test.padded_batch(self.batch_size)\n",
    "        predicted_weights = self.model.predict(test_dataset)\n",
    "        weights_all = dict((k,v) for k,v in zip(uids, predicted_weights))\n",
    "        # print(weights_all)\n",
    "        predicted_weights = np.concatenate([[weights_all[uid]] for uid in test_set_ID])\n",
    "        print(predicted_weights)\n",
    "        fforma_preds = predicted_weights * y_hat_df\n",
    "        fforma_preds = fforma_preds.sum(axis=1)\n",
    "        fforma_preds.name = 'navg_prediction'\n",
    "        preds = pd.concat([y_hat_df, fforma_preds], axis=1)\n",
    "        return preds\n",
    "\n",
    "\n"
   ]
  },
  {
   "cell_type": "code",
   "execution_count": 13,
   "metadata": {},
   "outputs": [],
   "source": [
    "deepforma = DeepFFORMA(DEEPFFORMA_CONFIGS[seasonality],\n",
    "                       train_feats.shape[1],\n",
    "                       train_errors.shape[1]\n",
    "                       )"
   ]
  },
  {
   "cell_type": "code",
   "execution_count": 14,
   "metadata": {},
   "outputs": [],
   "source": [
    "train_errors_ID = pd.to_numeric(train_errors.index.str[1:], errors='coerce')\n",
    "\n",
    "max_length  = 16\n",
    "if max_length is not None:\n",
    "    gen_series =  lambda: ((ts_pred_data[uid][-max_length:],trgt) for uid, trgt in zip(train_errors_ID, train_errors.values))\n",
    "else:\n",
    "    gen_series =  lambda: ((ts_pred_data[uid],trgt) for uid, trgt in zip(train_errors_ID, train_errors.values))\n",
    "\n",
    "ds_series_validate = tf.data.Dataset.from_generator(\n",
    "        gen_series,\n",
    "        output_types=(tf.float32, tf.float32), \n",
    "        output_shapes=((None,), (5,)))\n",
    "\n",
    "ds_series_train = tf.data.Dataset.from_generator(\n",
    "        gen_series,\n",
    "        output_types=(tf.float32, tf.float32), \n",
    "        output_shapes=((None,), (5,)))\n",
    "\n",
    "\n",
    "validate_dataset = ds_series_validate.enumerate() \\\n",
    "                    .filter(is_test) \\\n",
    "                    .map(recover) \\\n",
    "                    .padded_batch(2)\n",
    "\n",
    "train_dataset    = ds_series_train.enumerate() \\\n",
    "                    .filter(is_train) \\\n",
    "                    .map(recover) \\\n",
    "                    .padded_batch(2)"
   ]
  },
  {
   "cell_type": "code",
   "execution_count": 15,
   "metadata": {},
   "outputs": [],
   "source": [
    "y_hat_df = y_hat_base_models_test\n",
    "test_set_ID = pd.to_numeric(y_hat_df.reset_index().unique_id.str[1:], errors='coerce')\n",
    "uids = np.unique(test_set_ID)\n",
    "gen_series =  lambda: (ts_pred_data[uid][-267:] for uid in uids)\n",
    "ds_series_test = tf.data.Dataset.from_generator(\n",
    "        gen_series,\n",
    "        output_types=(tf.float32), \n",
    "        output_shapes=((None,)))\n",
    "test_dataset = ds_series_test.padded_batch(2)"
   ]
  },
  {
   "cell_type": "code",
   "execution_count": 40,
   "metadata": {},
   "outputs": [],
   "source": [
    "it = test_dataset.__iter__()\n",
    "# for i in range(10):\n",
    "#     print(it.__next__())\n",
    "data = it.__next__()"
   ]
  },
  {
   "cell_type": "code",
   "execution_count": 41,
   "metadata": {},
   "outputs": [
    {
     "data": {
      "text/plain": [
       "<tf.Tensor: shape=(2, 59), dtype=float32, numpy=\n",
       "array([[1835. , 2322. , 3059. , 1883. , 1896. , 2060. , 2764. , 1743. ,\n",
       "        1561. , 1934. , 2446. , 1609. , 1236. , 1724. , 2040. , 1409. ,\n",
       "        1282. , 1637. , 2159. , 1520. , 1279. , 1718. , 2283. , 1515. ,\n",
       "        1382. , 1804. , 2393. , 1546. , 1405. , 1659. , 2150. , 1479. ,\n",
       "        1381. , 1623. , 1883. , 1320. ,  978. , 1211. , 1380. ,  916. ,\n",
       "         715. , 1119. , 1383. ,  933. ,  673. ,  968. , 1182. ,  964. ,\n",
       "         851. , 1068. , 1290. ,  864. ,  876. , 1068. , 1422. ,  968. ,\n",
       "         843. , 1241. , 1340. ],\n",
       "       [ 926.9,  953.5,  945.1,  939.7,  974.1,  989.6,  999.2, 1001.9,\n",
       "        1045.6, 1053.8, 1065.5, 1103.3, 1102.1, 1117.6, 1116.8, 1150.6,\n",
       "        1158.9, 1159.9, 1166. , 1174.6, 1204.8, 1226.4, 1228.2, 1285.4,\n",
       "        1304.3, 1313.4, 1335. , 1366.4, 1365.4, 1382. , 1397.4, 1422.8,\n",
       "        1460.5, 1444.8, 1455.3, 1486.8, 1452. , 1442.2, 1458.1, 1462.7,\n",
       "        1457.3, 1509.4, 1526.2, 1517.8, 1509. , 1535.2, 1577.5, 1590.1,\n",
       "        1613.2, 1618.6, 1637.6, 1690.9, 1676.4, 1694.5, 1705.6, 1723.5,\n",
       "        1741.5, 1776.5, 1739.4]], dtype=float32)>"
      ]
     },
     "execution_count": 41,
     "metadata": {},
     "output_type": "execute_result"
    }
   ],
   "source": [
    "data"
   ]
  },
  {
   "cell_type": "code",
   "execution_count": 42,
   "metadata": {},
   "outputs": [
    {
     "data": {
      "text/plain": [
       "<AxesSubplot:>"
      ]
     },
     "execution_count": 42,
     "metadata": {},
     "output_type": "execute_result"
    },
    {
     "data": {
      "image/png": "[encoded data removed]",
      "text/plain": [
       "<Figure size 432x288 with 1 Axes>"
      ]
     },
     "metadata": {
      "needs_background": "light"
     },
     "output_type": "display_data"
    }
   ],
   "source": [
    "pd.DataFrame(data[0]).plot()"
   ]
  },
  {
   "cell_type": "code",
   "execution_count": 19,
   "metadata": {},
   "outputs": [],
   "source": [
    "class SumOne(tf.keras.constraints.Constraint):\n",
    "    def __call__(self, w):\n",
    "        return w / tf.reduce_sum(w)\n",
    "    \n",
    "    @classmethod\n",
    "    def init(cls, shape, dtype):\n",
    "        w = tf.random.normal(shape, dtype=dtype)\n",
    "        w = w / tf.reduce_sum(w)\n",
    "        return w\n",
    "\n",
    "class SumZero(tf.keras.constraints.Constraint):\n",
    "    def __call__(self, w):\n",
    "        return w - tf.reduce_mean(w)\n",
    "\n",
    "    @classmethod\n",
    "    def init(cls, shape, dtype):\n",
    "        w = tf.random.normal(shape, dtype=dtype)\n",
    "        w = w - tf.reduce_mean(w)\n",
    "        return w"
   ]
  },
  {
   "cell_type": "code",
   "execution_count": 58,
   "metadata": {},
   "outputs": [
    {
     "data": {
      "text/plain": [
       "<tf.Tensor: shape=(2, 59), dtype=float32, numpy=\n",
       "array([[1835. , 2322. , 3059. , 1883. , 1896. , 2060. , 2764. , 1743. ,\n",
       "        1561. , 1934. , 2446. , 1609. , 1236. , 1724. , 2040. , 1409. ,\n",
       "        1282. , 1637. , 2159. , 1520. , 1279. , 1718. , 2283. , 1515. ,\n",
       "        1382. , 1804. , 2393. , 1546. , 1405. , 1659. , 2150. , 1479. ,\n",
       "        1381. , 1623. , 1883. , 1320. ,  978. , 1211. , 1380. ,  916. ,\n",
       "         715. , 1119. , 1383. ,  933. ,  673. ,  968. , 1182. ,  964. ,\n",
       "         851. , 1068. , 1290. ,  864. ,  876. , 1068. , 1422. ,  968. ,\n",
       "         843. , 1241. , 1340. ],\n",
       "       [ 926.9,  953.5,  945.1,  939.7,  974.1,  989.6,  999.2, 1001.9,\n",
       "        1045.6, 1053.8, 1065.5, 1103.3, 1102.1, 1117.6, 1116.8, 1150.6,\n",
       "        1158.9, 1159.9, 1166. , 1174.6, 1204.8, 1226.4, 1228.2, 1285.4,\n",
       "        1304.3, 1313.4, 1335. , 1366.4, 1365.4, 1382. , 1397.4, 1422.8,\n",
       "        1460.5, 1444.8, 1455.3, 1486.8, 1452. , 1442.2, 1458.1, 1462.7,\n",
       "        1457.3, 1509.4, 1526.2, 1517.8, 1509. , 1535.2, 1577.5, 1590.1,\n",
       "        1613.2, 1618.6, 1637.6, 1690.9, 1676.4, 1694.5, 1705.6, 1723.5,\n",
       "        1741.5, 1776.5, 1739.4]], dtype=float32)>"
      ]
     },
     "execution_count": 58,
     "metadata": {},
     "output_type": "execute_result"
    }
   ],
   "source": [
    "data"
   ]
  },
  {
   "cell_type": "code",
   "execution_count": 108,
   "metadata": {},
   "outputs": [],
   "source": [
    "inputs = tf.keras.Input((None,1))\n",
    "xe = tf.keras.layers.LayerNormalization(epsilon=1e-8, center=False, scale=False, axis=1)(inputs)\n",
    "xd = tf.keras.layers.UnitNormalization(axis=1)(inputs)\n",
    "\n",
    "# xs = tf.keras.layers.Cropping1D(cropping=(2, 0))(xs)\n",
    "# xs = tf.keras.layers.Subtract()([inputs,x])\n",
    "# xt = tf.keras.layers.SimpleRNN(1,return_sequences=True)(x)\n",
    "\n",
    "# xt = tf.keras.layers.AveragePooling1D(pool_size=4, strides=1, padding=\"same\")(xd)\n",
    "# xt = tf.keras.layers.Conv1D(2, 5,\n",
    "#                             padding='valid', \n",
    "#                             kernel_initializer=SumOne.init,\n",
    "#                             kernel_constraint=SumOne,\n",
    "#                             use_bias=False)(inputs)\n",
    "# xt = tf.keras.layers.UnitNormalization(axis=1)(xt)\n",
    "# xt = tf.keras.layers.ZeroPadding1D(padding=(2,2))(xt)\n",
    "\n",
    "# xs = tf.keras.layers.Conv1D(2, 3,\n",
    "#                             padding='valid',\n",
    "#                             kernel_initializer=SumZero.init,\n",
    "#                             kernel_constraint=SumZero,\n",
    "#                             use_bias=False)(inputs)\n",
    "# xs = tf.keras.layers.UnitNormalization(axis=1)(xs)\n",
    "# xs = tf.keras.layers.ZeroPadding1D(padding=(1,1))(xs)\n",
    "\n",
    "x = tf.keras.layers.Concatenate(axis=2)([xe,xd])\n",
    "m  = tf.keras.Model(inputs, x)"
   ]
  },
  {
   "cell_type": "code",
   "execution_count": 109,
   "metadata": {},
   "outputs": [
    {
     "name": "stdout",
     "output_type": "stream",
     "text": [
      "tf.Tensor(\n",
      "[[[ 0.6328702   0.14971323]\n",
      "  [ 1.5862734   0.18944639]\n",
      "  [ 3.029103    0.24957643]\n",
      "  [ 0.72684     0.15362944]\n",
      "  [ 0.75229025  0.15469007]\n",
      "  [ 1.073354    0.16807044]\n",
      "  [ 2.4515793   0.2255081 ]\n",
      "  [ 0.45276117  0.14220718]\n",
      "  [ 0.09645867  0.12735823]\n",
      "  [ 0.82668304  0.1577904 ]]\n",
      "\n",
      " [[-1.7014883   0.08811086]\n",
      "  [-1.5937784   0.09063946]\n",
      "  [-1.6277921   0.08984095]\n",
      "  [-1.649658    0.08932763]\n",
      "  [-1.5103638   0.09259769]\n",
      "  [-1.4476004   0.09407111]\n",
      "  [-1.4087276   0.09498368]\n",
      "  [-1.3977947   0.09524035]\n",
      "  [-1.2208424   0.09939446]\n",
      "  [-1.1876383   0.10017395]]], shape=(2, 10, 2), dtype=float32)\n"
     ]
    },
    {
     "data": {
      "text/plain": [
       "(array([[ 4.4450921e-08,  1.2333829e-01],\n",
       "        [-4.6067319e-07,  1.2805481e-01]], dtype=float32),\n",
       " array([[1.        , 0.04167509],\n",
       "        [0.99999994, 0.02347589]], dtype=float32),\n",
       " None)"
      ]
     },
     "execution_count": 109,
     "metadata": {},
     "output_type": "execute_result"
    }
   ],
   "source": [
    "res = m(data[:,:60])\n",
    "np.mean(res, axis=1), np.std(res, axis=1), print(res[:,:10])"
   ]
  },
  {
   "cell_type": "code",
   "execution_count": 97,
   "metadata": {},
   "outputs": [
    {
     "data": {
      "text/plain": [
       "<AxesSubplot:>"
      ]
     },
     "execution_count": 97,
     "metadata": {},
     "output_type": "execute_result"
    },
    {
     "data": {
      "image/png": "[encoded data removed]",
      "text/plain": [
       "<Figure size 432x288 with 1 Axes>"
      ]
     },
     "metadata": {
      "needs_background": "light"
     },
     "output_type": "display_data"
    }
   ],
   "source": [
    "pd.DataFrame(res[0]).plot()"
   ]
  },
  {
   "cell_type": "code",
   "execution_count": 89,
   "metadata": {},
   "outputs": [
    {
     "data": {
      "text/plain": [
       "<AxesSubplot:>"
      ]
     },
     "execution_count": 89,
     "metadata": {},
     "output_type": "execute_result"
    },
    {
     "data": {
      "image/png": "[encoded data removed]",
      "text/plain": [
       "<Figure size 432x288 with 1 Axes>"
      ]
     },
     "metadata": {
      "needs_background": "light"
     },
     "output_type": "display_data"
    }
   ],
   "source": [
    "pd.DataFrame(res[1]).plot()"
   ]
  },
  {
   "cell_type": "code",
   "execution_count": 46,
   "metadata": {},
   "outputs": [
    {
     "name": "stderr",
     "output_type": "stream",
     "text": [
      "2022-07-28 22:11:05.006803: W tensorflow/core/common_runtime/bfc_allocator.cc:275] Allocator (GPU_0_bfc) ran out of memory trying to allocate 1.46GiB with freed_by_count=0. The caller indicates that this is not a failure, but may mean that there could be performance gains if more memory were available.\n",
      "2022-07-28 22:11:05.027485: W tensorflow/core/common_runtime/bfc_allocator.cc:275] Allocator (GPU_0_bfc) ran out of memory trying to allocate 763.52MiB with freed_by_count=0. The caller indicates that this is not a failure, but may mean that there could be performance gains if more memory were available.\n",
      "2022-07-28 22:11:05.048746: W tensorflow/core/common_runtime/bfc_allocator.cc:275] Allocator (GPU_0_bfc) ran out of memory trying to allocate 1.25GiB with freed_by_count=0. The caller indicates that this is not a failure, but may mean that there could be performance gains if more memory were available.\n",
      "2022-07-28 22:11:05.070918: W tensorflow/core/common_runtime/bfc_allocator.cc:275] Allocator (GPU_0_bfc) ran out of memory trying to allocate 1.76GiB with freed_by_count=0. The caller indicates that this is not a failure, but may mean that there could be performance gains if more memory were available.\n",
      "2022-07-28 22:11:05.095308: W tensorflow/core/common_runtime/bfc_allocator.cc:275] Allocator (GPU_0_bfc) ran out of memory trying to allocate 3.51GiB with freed_by_count=0. The caller indicates that this is not a failure, but may mean that there could be performance gains if more memory were available.\n",
      "2022-07-28 22:11:05.146520: W tensorflow/core/common_runtime/bfc_allocator.cc:275] Allocator (GPU_0_bfc) ran out of memory trying to allocate 1.46GiB with freed_by_count=0. The caller indicates that this is not a failure, but may mean that there could be performance gains if more memory were available.\n",
      "2022-07-28 22:11:05.163893: W tensorflow/core/common_runtime/bfc_allocator.cc:275] Allocator (GPU_0_bfc) ran out of memory trying to allocate 763.52MiB with freed_by_count=0. The caller indicates that this is not a failure, but may mean that there could be performance gains if more memory were available.\n",
      "2022-07-28 22:11:05.181727: W tensorflow/core/common_runtime/bfc_allocator.cc:275] Allocator (GPU_0_bfc) ran out of memory trying to allocate 1.25GiB with freed_by_count=0. The caller indicates that this is not a failure, but may mean that there could be performance gains if more memory were available.\n",
      "2022-07-28 22:11:05.200258: W tensorflow/core/common_runtime/bfc_allocator.cc:275] Allocator (GPU_0_bfc) ran out of memory trying to allocate 1.76GiB with freed_by_count=0. The caller indicates that this is not a failure, but may mean that there could be performance gains if more memory were available.\n",
      "2022-07-28 22:11:05.220252: W tensorflow/core/common_runtime/bfc_allocator.cc:275] Allocator (GPU_0_bfc) ran out of memory trying to allocate 3.51GiB with freed_by_count=0. The caller indicates that this is not a failure, but may mean that there could be performance gains if more memory were available.\n"
     ]
    },
    {
     "name": "stdout",
     "output_type": "stream",
     "text": [
      "[[0. 1. 0. 0. 0.]\n",
      " [0. 1. 0. 0. 0.]\n",
      " [0. 1. 0. 0. 0.]\n",
      " ...\n",
      " [0. 1. 0. 0. 0.]\n",
      " [0. 1. 0. 0. 0.]\n",
      " [0. 1. 0. 0. 0.]]\n"
     ]
    }
   ],
   "source": [
    "deepforma.fit(ts_pred_data, train_errors)\n",
    "deepforma_preds = deepforma.predict(ts_pred_data, y_hat_base_models_test)\n",
    "# NAVG SCORE\n",
    "test_deepforma_df = test_set.copy()\n",
    "test_deepforma_df['y_hat'] = deepforma_preds['navg_prediction'].values\n",
    "predictions_df = test_deepforma_df[['unique_id', 'y_hat', 'ds']]\n",
    "combination_owa, _, _ = evaluate_prediction_owa(predictions_df=predictions_df,\n",
    "                                                y_train_df=y_train_df,\n",
    "                                                y_test_df=test_deepforma_df,\n",
    "                                                naive2_seasonality=seas_dict[seasonality]['seasonality'],\n",
    "                                                return_averages=False)\n",
    "test_df = test_deepforma_df"
   ]
  },
  {
   "cell_type": "code",
   "execution_count": null,
   "metadata": {},
   "outputs": [],
   "source": []
  }
 ],
 "metadata": {
  "kernelspec": {
   "display_name": "Python 3.8.13 ('fformaProj')",
   "language": "python",
   "name": "python3"
  },
  "language_info": {
   "codemirror_mode": {
    "name": "ipython",
    "version": 3
   },
   "file_extension": ".py",
   "mimetype": "text/x-python",
   "name": "python",
   "nbconvert_exporter": "python",
   "pygments_lexer": "ipython3",
   "version": "3.8.13"
  },
  "orig_nbformat": 4,
  "vscode": {
   "interpreter": {
    "hash": "3e85aaf0aeeb754a806b17168fb7614259e60eac6defbc58d30554e49ff75f49"
   }
  }
 },
 "nbformat": 4,
 "nbformat_minor": 2
}
